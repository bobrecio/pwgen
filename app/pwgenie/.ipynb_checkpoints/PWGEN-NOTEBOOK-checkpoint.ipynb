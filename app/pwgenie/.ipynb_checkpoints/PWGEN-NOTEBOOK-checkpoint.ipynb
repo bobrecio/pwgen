{
 "cells": [
  {
   "cell_type": "markdown",
   "id": "7b78d4c7",
   "metadata": {},
   "source": [
    "# PWGenie app\n",
    "---\n",
    "\n",
    "### usage: pwgen(format-string-segments)\n",
    "- Returns 3 passwords based on the specified password format\n",
    "- see Usage section below for details"
   ]
  },
  {
   "cell_type": "code",
   "execution_count": 123,
   "id": "92c9f3d7",
   "metadata": {},
   "outputs": [
    {
     "name": "stdout",
     "output_type": "stream",
     "text": [
      "mixed_case ->  ABCDEFGHIJKLMNOPQRSTUVWXYZabcdefghijklmnopqrstuvwxyz\n",
      "anychar() ->  ABCDEFGHIJKLMNOPQRSTUVWXYZabcdefghijklmnopqrstuvwxyz0123456789!@#$%^&*-+=.?~\n"
     ]
    }
   ],
   "source": [
    "import random\n",
    "\n",
    "alpha_upper = \"ABCDEFGHIJKLMNOPQRSTUVWXYZ\"\n",
    "alpha_lower = \"abcdefghijklmnopqrstuvwxyz\"\n",
    "\n",
    "mixed_case = alpha_upper + alpha_lower # mixed-case is combination of alpha_upper and alpha_lower\n",
    "\n",
    "symbols = \"!@#$%^&*-+=.?~\"\n",
    "digits = \"0123456789\"\n",
    "\n",
    "anychar = mixed_case + digits + symbols # anychar is a combination of all the lists\n",
    "\n",
    "print('mixed_case -> ', mixed_case)\n",
    "print('anychar() -> ', anychar)"
   ]
  },
  {
   "cell_type": "code",
   "execution_count": 124,
   "id": "516e21cf",
   "metadata": {},
   "outputs": [
    {
     "name": "stdout",
     "output_type": "stream",
     "text": [
      "getWord(\"w\",\"2\") ->  fundamentalist\n"
     ]
    }
   ],
   "source": [
    "def getWord(this_type, this_len):\n",
    "    types = {\n",
    "        \"n\":\"nouns.txt\", \n",
    "        \"v\":\"verbs.txt\", \n",
    "        \"j\":\"adjs.txt\", \n",
    "        \"b\":\"advs.txt\", \n",
    "        \"w\":\"words.txt\",\n",
    "        \"1\":\"colors.txt\",\n",
    "        \"2\":\"months.txt\",\n",
    "        \"3\":\"days.txt\"\n",
    "    }\n",
    "\n",
    "    this_type = 'w' if this_type not in types else this_type\n",
    "    this_len = random.choice(range(3,20)) if int(this_len) not in range(3,20) else this_len\n",
    "    this_file = \"./words/\" + types[this_type]\n",
    "    \n",
    "    words = open(this_file, \"r\").readlines()\n",
    "    \n",
    "    words_list = []\n",
    "    \n",
    "    for this_word in words:\n",
    "        #need to remove the \\n at the end of each, but not last word in file\n",
    "        word = this_word[:-1] if '\\n' in this_word else this_word \n",
    "        if this_type.isdigit() == False and len(word) == int(this_len):\n",
    "            words_list.append(word)\n",
    "        elif this_type.isdigit() == True:\n",
    "            words_list.append(word)\n",
    "\n",
    "    word_pick = random.choice(words_list)\n",
    "    return(word_pick)\n",
    "\n",
    "print('getWord(\"w\",\"2\") -> ', getWord(\"w\",\"2\"))"
   ]
  },
  {
   "cell_type": "code",
   "execution_count": 47,
   "id": "4d494217",
   "metadata": {},
   "outputs": [
    {
     "name": "stdout",
     "output_type": "stream",
     "text": [
      "spell_number(\"0\") ->  zero\n"
     ]
    }
   ],
   "source": [
    "def spell_number(numeral: str = \"\"):\n",
    "    n = numeral if numeral != \"\" else str(random.choice(range(99)))\n",
    "    spelled_number = \"\"\n",
    "\n",
    "    nums_list = {0:\"zero\", 1: \"one\", 2: \"two\", 3: \"three\", 4: \"four\", 5: \"five\", 6: \"six\", 7: \"seven\", 8: \"eight\", 9: \"nine\", 10: \"ten\",\n",
    "                 11: \"eleven\", 12: \"twelve\", 13: \"thirteen\", 14: \"fourteen\", 15: \"fifteen\", 16: \"sixteen\", 17: \"seventeen\", 18: \"eighteen\", 19: \"nineteen\"}\n",
    "    tens_list = {2: \"twenty\", 3: \"thirty\", 4: \"forty\", 5: \"fifty\",\n",
    "                 6: \"sixty\", 7: \"seventy\", 8: \"eighty\", 9: \"ninety\"}\n",
    "\n",
    "    try:\n",
    "        spelled_number = nums_list[int(n)] if int(n) in nums_list else tens_list[int(\n",
    "            n[0])] + \"-\" + nums_list[int(n[1])] if n[1] != \"0\" else tens_list[int(n[0])]\n",
    "    except:\n",
    "        spell_number = \"\"\n",
    "    return (spelled_number)\n",
    "\n",
    "\n",
    "print('spell_number(\"0\") -> ', spell_number(\"0\"))"
   ]
  },
  {
   "cell_type": "code",
   "execution_count": 42,
   "id": "fbb42547",
   "metadata": {},
   "outputs": [
    {
     "name": "stdout",
     "output_type": "stream",
     "text": [
      "part_num(\"\"), part_num(\"0\"), part_num(\"99\") 5 7 99\n"
     ]
    }
   ],
   "source": [
    "def part_num(pnum):\n",
    "    # sets the length of the string for this segment\n",
    "    if len(pnum) <= 0: \n",
    "        #set number to 1 if there is no number\n",
    "        return(5)\n",
    "    elif pnum == \"0\": \n",
    "        #set random number btwn 3 an 8, if it's 0\n",
    "        return(int(random.choice(\"345678\")))\n",
    "    else:\n",
    "        return(int(pnum))\n",
    "\n",
    "print('part_num(\"\"), part_num(\"0\"), part_num(\"99\")', part_num(\"\"), part_num(\"0\"), part_num(\"99\"))"
   ]
  },
  {
   "cell_type": "code",
   "execution_count": 48,
   "id": "4b4d35c0",
   "metadata": {},
   "outputs": [
    {
     "name": "stdout",
     "output_type": "stream",
     "text": [
      "change_word_case(\"heLLo\",\"T\") ->  Hello\n"
     ]
    }
   ],
   "source": [
    "def change_word_case(this_word, this_case: str = \"\"):\n",
    "    case_param = this_case.lower()\n",
    "    if this_case.lower() in \"ult\":\n",
    "        match case_param:\n",
    "            case \"u\":\n",
    "                #upper-case word\n",
    "                return(this_word.upper())\n",
    "            case \"l\":\n",
    "                #lower-case word\n",
    "                return(this_word.lower())\n",
    "            case \"t\":\n",
    "                #title-case word\n",
    "                return(this_word.capitalize())\n",
    "    else:\n",
    "        return(this_word)\n",
    "\n",
    "print('change_word_case(\"heLLo\",\"T\") -> ', change_word_case(\"heLLo\",\"T\"))"
   ]
  },
  {
   "cell_type": "code",
   "execution_count": 119,
   "id": "50acfedb",
   "metadata": {
    "scrolled": true
   },
   "outputs": [
    {
     "name": "stdout",
     "output_type": "stream",
     "text": [
      "4\n",
      "4\n",
      "1\n",
      "Doty Chon: (PLEASINGNESS)144-4749\n",
      "0\n",
      "wednesday\n"
     ]
    }
   ],
   "source": [
    "def pwgen(pattern):\n",
    "    \n",
    "    pw = \"\"\n",
    "    try:\n",
    "        pattern_parts = [part for part in pattern.split('%')[1:]]\n",
    "    except:\n",
    "        print('Missing pattern parameter; try \"%x14\"')\n",
    "    else:\n",
    "        for part in pattern_parts:\n",
    "            match part[0]:\n",
    "                case \"0\":\n",
    "                    # spelled number\n",
    "                    if len(part) > 1:\n",
    "                        requested_number = part[1:] if part[1].isdigit() else part[2:]\n",
    "                        number_case = \"l\" if part[1].isdigit() else part[1]\n",
    "                    else:\n",
    "                        requested_number = \"\" # if number is not specified; returns random\n",
    "                        number_case = \"l\" \n",
    "                    this_spelled_number = change_word_case(spell_number(requested_number), number_case)\n",
    "                    pw += this_spelled_number\n",
    "                case\"\\\\\":\n",
    "                    #literal\n",
    "                    pw += part[1:]\n",
    "                case \"a\"|\"A\"|\"m\"|\"s\"|\"d\"|\"x\":\n",
    "                    # character types\n",
    "                    number_portion = part[1:] if part[1].isdigit() else \"1\"\n",
    "                    numbers_only = ''.join(filter(str.isdigit, number_portion))\n",
    "                       \n",
    "                        \n",
    "                    for i in range(part_num(numbers_only)):\n",
    "                        match part[0]:\n",
    "                            case \"a\":\n",
    "                                #lower-alpha\n",
    "                                pw += random.choice(alpha_lower)\n",
    "                            case \"A\": \n",
    "                                #upper-alpha\n",
    "                                pw += random.choice(alpha_upper)\n",
    "                            case \"m\" | \"M\":\n",
    "                                #mixed-case alpha\n",
    "                                pw += random.choice(mixed_case)\n",
    "                            case \"s\":\n",
    "                                #symbol\n",
    "                                pw += random.choice(symbols)\n",
    "                            case \"d\":\n",
    "                                #digit\n",
    "                                pw += random.choice(digits)\n",
    "                            case \"x\":\n",
    "                                #random any character\n",
    "                                pw += random.choice(anychar)\n",
    "\n",
    "                case \"w\" | \"n\" | \"v\" | \"j\" | \"b\" | \"c\":\n",
    "                    #words\n",
    "                    word_type = \"w\" #set default\n",
    "                    word_case = \"t\" #set default\n",
    "                    word_length = \"0\" #set default\n",
    "                    if (len(part) == 1):\n",
    "                        # letter only\n",
    "                        word_length = 5\n",
    "                        word_case = \"t\"\n",
    "                        \n",
    "                    elif part[1].isdigit() and part[0] != \"c\":\n",
    "                        # if no word-case indicated\n",
    "                        this_num = part[1:]\n",
    "                        if int(this_num) > 20:\n",
    "                            # limit to 20-char words\n",
    "                            this_num = \"20\"\n",
    "                        word_length = int(part_num(this_num))\n",
    "                        word_case = \"t\"\n",
    "                        \n",
    "                    elif part[0] == \"c\":\n",
    "                        # custom lists; ex. c1, c1u\n",
    "                        word_length = 0 # word_length is not used for custom lists\n",
    "                        word_case = part[-1] if part[-1].isdigit() == False else  \"t\" #c3u\n",
    "                        word_type = part[1:-1] if part[-1].isdigit() == False else part[1:-1] #c3u\n",
    "                    else:\n",
    "                        # limit to 20-char words\n",
    "                        this_num = \"20\" if part[2:] and int(part[2:]) > 20 else part[2:]\n",
    "                        word_length = int(part_num(this_num))\n",
    "                        word_case = part[1]\n",
    "                                        \n",
    "                    word_type = word_type if part[0] == \"c\" else part[0]\n",
    "                    \n",
    "                    this_word = getWord(word_type, word_length) if part[0] != \"0\" else spell_number(word_length)\n",
    "                        \n",
    "                    pw += change_word_case(this_word, word_case)    \n",
    "\n",
    "    return(pw)\n",
    "\n",
    "# print(pwgen(\"%jt4%\\ %nt0%\\: (%nu1%\\)%d3%\\-%d4\"))\n",
    "print(pwgen(\"%jt4%\\ %nt0%\\: (%nu1%\\)%d3%\\-%d4\"))\n",
    "print(pwgen(\"%c3l\"))"
   ]
  },
  {
   "cell_type": "code",
   "execution_count": 14,
   "id": "181cc035",
   "metadata": {
    "scrolled": false
   },
   "outputs": [
    {
     "name": "stdout",
     "output_type": "stream",
     "text": [
      "jsg\n",
      "Lank Rand: (ZERO)840-1562\n"
     ]
    }
   ],
   "source": [
    "print(pwgen(\"%a3u\"))\n",
    "print(pwgen(\"%jt4%\\ %nt0%\\: (%0u0%\\)%d3%\\-%d4\"))"
   ]
  },
  {
   "cell_type": "markdown",
   "id": "6a556013",
   "metadata": {},
   "source": [
    "## USAGE\n",
    "pwgen(format-string-segments)\n",
    "- Format string is made up of multiple segment representing parts of the desigred password\n",
    "- `%` starts each segment\n",
    "- Words (nouns, verbs, adjectives, adverbs)\n",
    "    - Case can be designated; default is Title-case, if not given\n",
    "    - Word length can be specified; default is 5, if not given\n",
    "- Characters (letters, digits, symbols)\n",
    "    - Number of characters can be designated; default is 1, if not given\n",
    "- Literal\n",
    "    - Can be any character or string\n",
    "\n",
    "---\n",
    "|char|type|example|description|\n",
    "|:---:|:------------:|:-----:|:---------------------------|\n",
    "|a|lower-alpha|%a5|5 random lower-alpha characters|\n",
    "|A|upper-alpha|%A5|5 random upper-alpha characters|\n",
    "|m|mixed-case|%M3|3 random mixed-case characters|\n",
    "|d|digits|%d14|14 random digits|\n",
    "|s|symbol|%s|5 (default) symbol (aka special character)|\n",
    "| \\\\ |literal char/string|%\\hello!|produces hello!|\n",
    "|0 (zero)|spelled number (1-2 digits)|0l33, 00, 0|thirty-three (lower case), zero, (random)\n",
    "|x|any characters|%x14|14 random characters of any type|\n",
    "|wl|word (lower-case)|%wl3|3-letter word with all lower-case letters|\n",
    "|wu|word (upper-case)|%wu5|5-letter word with all upper-case letters|\n",
    "|wt|word (title-case)|%wt0|5-letter word with first letter capitalized|\n",
    "|nl, nu, nt|noun (upper-, lower-, title-case)|||\n",
    "|vl, vu, vt|verb (upper-, lower-, title-case)|||\n",
    "|jl, ju, jt|adjective (upper-, lower-, title-case)|||\n",
    "|bl, bu, bt|adverb (upper-, lower-, title-case)|||\n",
    "|cl1, cu1, ct1|custom 1: random color|%cl1|purple (lower-case)|\n",
    "|cl2, cu2, ct2|custom 2: random month word|#cu2|MARCH (upper-case)|\n",
    "|cl3, cu3, ct3|custom 3: random day word|%ct3|Wednesday (title-case)|\n",
    "\n",
    "---\n",
    "__Usage example__\n",
    "> `%\\wt3.%jl4%nt0%s%d3\"`\n",
    "\n",
    "|Segment|Descripton|\n",
    "|---|---|\n",
    "|%\\wt3.|literal string 'wt3.'|\n",
    "|%jl4|adjective, lower-case, 4-letters long|\n",
    "|%nt0|noun, title-case, random length|\n",
    "|%s|random symbol, 1 character(default)|\n",
    "|%d3|drandom digits, 3 digits long|\n",
    "\n",
    "__Example of results__\n",
    "1. > `wt3.russStonks(856`\n",
    "2. > `wt3.bentCue~570`\n",
    "3. > `wt3.pertStubbed*699`\n",
    "4. > `wt3.airyWaftures!570`\n",
    "5. > `wt3.inbyPraxis~675`\n",
    "\n",
    "\n",
    "---\n",
    "Test your passwords at http://www.passwordmeter.com/"
   ]
  },
  {
   "cell_type": "markdown",
   "id": "4dbc01cb",
   "metadata": {},
   "source": [
    "# Utility functions\n",
    "---"
   ]
  },
  {
   "cell_type": "code",
   "execution_count": 182,
   "id": "9490b8de",
   "metadata": {},
   "outputs": [
    {
     "name": "stdout",
     "output_type": "stream",
     "text": [
      "verbs.txt\n",
      "start:\t 30802\n",
      "end:\t 29861 \n",
      "---------------\n"
     ]
    }
   ],
   "source": [
    "# Cleans the input file\n",
    "# - changes all words to lowercase\n",
    "# - removes duplicates\n",
    "# - alphabetizes\n",
    "# - removes words shorter than 3 letters and longer than 20 letters\n",
    "\n",
    "def clean_wordfile(filename):\n",
    "    print(filename)\n",
    "    file_in = open(\"./words/\" + filename, \"r\").readlines()\n",
    "    file_out = open(\"./words/\" + filename + \".clean\",\"w\")\n",
    "    file_in.sort()\n",
    "\n",
    "    print(\"start:\\t\", len(file_in))\n",
    "\n",
    "    special_chars = [\".\",\"'\",\"\\\"\",\",\",\"-\",\" \"]\n",
    "    word_list = []\n",
    "    prev_word = \"\"\n",
    "\n",
    "    for line in file_in:\n",
    "        this_word = line[:-1].lower()\n",
    "\n",
    "        no_special_chars = True #we drop words with special characters\n",
    "        unique_word = True #we drop duplicate words\n",
    "\n",
    "\n",
    "        for x in this_word:\n",
    "            if no_special_chars == True and x in special_chars:\n",
    "                no_special_chars = False\n",
    "\n",
    "        unique_word = (this_word != prev_word)\n",
    "\n",
    "        if unique_word and no_special_chars:\n",
    "            word_list.append(this_word)\n",
    "\n",
    "        prev_word = this_word\n",
    "\n",
    "    word_list.sort()\n",
    "\n",
    "    print (\"end:\\t\", len(word_list),\"\\n---------------\")\n",
    "    \n",
    "    for item in word_list:\n",
    "        if len(item) >= 3 and len(line) <=20:\n",
    "#             print(item)\n",
    "            file_out.write(item + \"\\n\")\n",
    "    \n",
    "    file_in.close()\n",
    "    file_out.close() \n",
    "        \n",
    "clean_wordfile(\"verbs.txt\")"
   ]
  },
  {
   "cell_type": "code",
   "execution_count": 186,
   "id": "2d732ad3",
   "metadata": {},
   "outputs": [
    {
     "name": "stdout",
     "output_type": "stream",
     "text": [
      "13207\n",
      "book.txt.new\n",
      "start:\t 12018\n",
      "end:\t 3229 \n",
      "---------------\n"
     ]
    }
   ],
   "source": [
    "# converts a text file to a text list of words\n",
    "# save it in the words folder\n",
    "# the output file is 'book.txt.new'\n",
    "# ideally this would be a book but can be any text file\n",
    "# words with special characters and numbers are discarded\n",
    "# words shorter than 3 letters and longer then 20 letters are discarded\n",
    "\n",
    "import os\n",
    "\n",
    "def make_bookfile(filename):\n",
    "    filename = \"book.txt\" if filename == \"\" else filename\n",
    "    file_in = open(\"./words/\"+filename,\"r\").readlines()\n",
    "    file_out = open(\"./words/book.txt.new\",\"w\")\n",
    "    \n",
    "    word_list = []\n",
    "    \n",
    "    for line in file_in:\n",
    "        line_words = line.split()\n",
    "        \n",
    "        keep_word = True #do not keep special chars and short/long words\n",
    "        \n",
    "        for word in line_words:\n",
    "            for x in word:\n",
    "                if keep_word == True and x.isalpha() == False:\n",
    "                    keep_word = False\n",
    "        \n",
    "            if keep_word == True and len(word) in range(3,20):\n",
    "                word_list.append(word)\n",
    "                \n",
    "    print(len(word_list))\n",
    "    \n",
    "    word_list.sort()\n",
    "    \n",
    "    for item in word_list:\n",
    "        file_out.write(item.lower() + \"\\n\")\n",
    "        \n",
    "    clean_wordfile(\"book.txt.new\")\n",
    "    \n",
    "    file_in.close()\n",
    "    file_out.close()\n",
    "\n",
    "make_bookfile(\"book.txt\")            "
   ]
  },
  {
   "cell_type": "code",
   "execution_count": 201,
   "id": "5ad005f1",
   "metadata": {},
   "outputs": [
    {
     "name": "stdout",
     "output_type": "stream",
     "text": [
      "124504\n",
      "116833\n"
     ]
    }
   ],
   "source": [
    "import os\n",
    "\n",
    "def compile_wordfile():\n",
    "    word_file_list = [\"adjs.txt\", \n",
    "                      \"advs.txt\", \n",
    "                      \"colors.txt\", \n",
    "                      \"days.txt\", \n",
    "                      \"months.txt\", \n",
    "                      \"nouns.txt\", \n",
    "                      \"numbers.txt\", \n",
    "                      \"book.txt\"]\n",
    "    \n",
    "    file_out = open(\"./words/words.txt\",\"w\")\n",
    "    word_list = []\n",
    "    \n",
    "    for this_file in word_file_list:\n",
    "        file_path = \"./words/\" + this_file\n",
    "        \n",
    "        if os.path.exists(file_path):\n",
    "            file_in = open(file_path, \"r\").readlines()\n",
    "        else:\n",
    "            print(this_file + \" does not exist\")\n",
    "            \n",
    "        for line in file_in:\n",
    "            word = line[:-1] if \"\\n\" in line else line\n",
    "            word_list.append(word.lower())\n",
    "    \n",
    "    word_list.sort()\n",
    "    print(len(word_list))\n",
    "    \n",
    "    prev_word = \"\"\n",
    "    \n",
    "    for word in word_list:\n",
    "        if word == prev_word:\n",
    "            word_list.remove(word)\n",
    "        \n",
    "        prev_word = word    \n",
    "\n",
    "    print(len(word_list))\n",
    "    \n",
    "    for item in word_list:\n",
    "        file_out.write(item + \"\\n\")\n",
    "        \n",
    "compile_wordfile()\n"
   ]
  }
 ],
 "metadata": {
  "kernelspec": {
   "display_name": "Python 3 (ipykernel)",
   "language": "python",
   "name": "python3"
  },
  "language_info": {
   "codemirror_mode": {
    "name": "ipython",
    "version": 3
   },
   "file_extension": ".py",
   "mimetype": "text/x-python",
   "name": "python",
   "nbconvert_exporter": "python",
   "pygments_lexer": "ipython3",
   "version": "3.11.2"
  }
 },
 "nbformat": 4,
 "nbformat_minor": 5
}
