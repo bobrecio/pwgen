{
 "cells": [
  {
   "cell_type": "markdown",
   "id": "fcf30e1f",
   "metadata": {},
   "source": [
    "# PWGEN app\n",
    "---\n",
    "\n",
    "### usage: pwgen(format-string-segments)\n",
    "- Returns a password based on the format string segments\n",
    "- see Usage section below for details"
   ]
  },
  {
   "cell_type": "code",
   "execution_count": 35,
   "id": "bd64407f",
   "metadata": {},
   "outputs": [
    {
     "name": "stdout",
     "output_type": "stream",
     "text": [
      "ABCDEFGHIJKLMNOPQRSTUVWXYZabcdefghijklmnopqrstuvwxyz0123456789!@#$%^&*-+=.?~\n"
     ]
    }
   ],
   "source": [
    "import random\n",
    "\n",
    "symbols = \"!@#$%^&*-+=.?~\"\n",
    "alpha_upper = \"ABCDEFGHIJKLMNOPQRSTUVWXYZ\"\n",
    "alpha_lower = \"abcdefghijklmnopqrstuvwxyz\"\n",
    "digits = \"0123456789\"\n",
    "mixed_case = alpha_upper + alpha_lower\n",
    "anychar = mixed_case + digits + symbols\n",
    "\n",
    "print(anychar)"
   ]
  },
  {
   "cell_type": "code",
   "execution_count": 42,
   "id": "d5d5a145",
   "metadata": {},
   "outputs": [
    {
     "name": "stdout",
     "output_type": "stream",
     "text": [
      "puree\n"
     ]
    }
   ],
   "source": [
    "def getWord(type: str=\"n\", word_len: str = \"5\"):\n",
    "    types = {\"n\":\"nouns.txt\", \n",
    "             \"v\":\"verbs.txt\", \n",
    "             \"j\":\"adjs.txt\", \n",
    "             \"b\":\"advs.txt\", \n",
    "             \"w\":\"words.txt\",\n",
    "             \"1\":\"colors.txt\",\n",
    "             \"2\":\"months.txt\",\n",
    "             \"3\":\"days.txt\"}\n",
    "    type = 'n' if type not in types else type\n",
    "#     word_len = \"5\" if word_len not in range(20) else word_len\n",
    "    file = \"./words/\" + types[type]\n",
    "    words = open(file, \"r\").readlines()\n",
    "    words_list = []\n",
    "    for this_word in words:\n",
    "        #need to remove the \\n at the end of each, but not last word in file\n",
    "        word = this_word[:-1] if '\\n' in this_word else this_word \n",
    "        if type.isdigit() == False and len(word) == int(word_len):\n",
    "            words_list.append(word)\n",
    "        elif type.isdigit() == True:\n",
    "            words_list.append(word)\n",
    "    word_pick = random.choice(words_list)\n",
    "    return(word_pick)\n",
    "\n",
    "print(getWord(\"n\",))"
   ]
  },
  {
   "cell_type": "code",
   "execution_count": 37,
   "id": "f626cfb0",
   "metadata": {},
   "outputs": [
    {
     "name": "stdout",
     "output_type": "stream",
     "text": [
      "zero\n"
     ]
    }
   ],
   "source": [
    "def spell_number(numeral: str = \"\"):\n",
    "    n = numeral if numeral != \"\" else str(random.choice(range(99)))\n",
    "    spelled_number = \"\"\n",
    "\n",
    "    nums_list = {0:\"zero\", 1: \"one\", 2: \"two\", 3: \"three\", 4: \"four\", 5: \"five\", 6: \"six\", 7: \"seven\", 8: \"eight\", 9: \"nine\", 10: \"ten\",\n",
    "                 11: \"eleven\", 12: \"twelve\", 13: \"thirteen\", 14: \"fourteen\", 15: \"fifteen\", 16: \"sixteen\", 17: \"seventeen\", 18: \"eighteen\", 19: \"nineteen\"}\n",
    "    tens_list = {2: \"twenty\", 3: \"thirty\", 4: \"forty\", 5: \"fifty\",\n",
    "                 6: \"sixty\", 7: \"seventy\", 8: \"eighty\", 9: \"ninety\"}\n",
    "\n",
    "    try:\n",
    "        spelled_number = nums_list[int(n)] if int(n) in nums_list else tens_list[int(\n",
    "            n[0])] + \"-\" + nums_list[int(n[1])] if n[1] != \"0\" else tens_list[int(n[0])]\n",
    "    except:\n",
    "        spell_number = \"\"\n",
    "    return (spelled_number)\n",
    "\n",
    "\n",
    "print(spell_number(\"0\"))"
   ]
  },
  {
   "cell_type": "code",
   "execution_count": 44,
   "id": "b69eb951",
   "metadata": {},
   "outputs": [
    {
     "name": "stdout",
     "output_type": "stream",
     "text": [
      "5 4 99\n"
     ]
    }
   ],
   "source": [
    "def part_num(pnum):\n",
    "    # sets the length of the string for this segment\n",
    "    if len(pnum) <= 0: \n",
    "        #set number to 1 if there is no number\n",
    "        return(5)\n",
    "    elif pnum == \"0\": \n",
    "        #set random number btwn 3 an 9, if it's 0\n",
    "        return(int(random.choice(\"3456789\")))\n",
    "    else:\n",
    "        return(int(pnum))\n",
    "\n",
    "print(part_num(\"\"), part_num(\"0\"), part_num(\"99\"))"
   ]
  },
  {
   "cell_type": "code",
   "execution_count": 39,
   "id": "898e2aac",
   "metadata": {},
   "outputs": [
    {
     "name": "stdout",
     "output_type": "stream",
     "text": [
      "Hello\n"
     ]
    }
   ],
   "source": [
    "def change_word_case(this_word, this_case: str = \"\"):\n",
    "    if this_case.lower() in \"ult\":\n",
    "        match this_case.lower():\n",
    "            case \"u\":\n",
    "                #upper-case word\n",
    "                return(this_word.upper())\n",
    "            case \"l\":\n",
    "                #lower-case word\n",
    "                return(this_word.lower())\n",
    "            case \"t\":\n",
    "                #title-case word\n",
    "                return(this_word.capitalize())\n",
    "    else:\n",
    "        return(this_word)\n",
    "\n",
    "print(change_word_case(\"heLLo\",\"T\"))"
   ]
  },
  {
   "cell_type": "code",
   "execution_count": 112,
   "id": "978964ef",
   "metadata": {
    "scrolled": true
   },
   "outputs": [
    {
     "name": "stdout",
     "output_type": "stream",
     "text": [
      "thursday\n"
     ]
    }
   ],
   "source": [
    "def pwgen(pattern):\n",
    "    \n",
    "    pw = \"\"\n",
    "    try:\n",
    "        pattern_parts = [part for part in pattern.split('%')[1:]]\n",
    "    except:\n",
    "        print('Missing pattern parameter; try \"%x14\"')\n",
    "    else:\n",
    "        for part in pattern_parts:\n",
    "            match part[0]:\n",
    "                case \"0\":\n",
    "                    # spelled number\n",
    "                    if len(part) > 1:\n",
    "                        requested_number = part[1:] if part[1].isdigit() else part[2:]\n",
    "                        number_case = \"l\" if part[1].isdigit() else part[1]\n",
    "                    else:\n",
    "                        requested_number = \"\" # if number is not specified; returns random\n",
    "                        number_case = \"l\" \n",
    "                    this_spelled_number = change_word_case(spell_number(requested_number), number_case)\n",
    "                    pw += this_spelled_number\n",
    "                case\"\\\\\":\n",
    "                    #literal\n",
    "                    pw += part[1:]\n",
    "                case \"a\"|\"A\"|\"m\"|\"s\"|\"d\"|\"x\":\n",
    "                    # character types\n",
    "                    number_portion = part[1:] if part[1].isdigit() else \"1\"\n",
    "                    numbers_only = ''.join(filter(str.isdigit, number_portion))\n",
    "                       \n",
    "                        \n",
    "                    for i in range(part_num(numbers_only)):\n",
    "                        match part[0]:\n",
    "                            case \"a\":\n",
    "                                #lower-alpha\n",
    "                                pw += random.choice(alpha_lower)\n",
    "                            case \"A\": \n",
    "                                #upper-alpha\n",
    "                                pw += random.choice(alpha_upper)\n",
    "                            case \"m\" | \"M\":\n",
    "                                #mixed-case alpha\n",
    "                                pw += random.choice(mixed_case)\n",
    "                            case \"s\":\n",
    "                                #symbol\n",
    "                                pw += random.choice(symbols)\n",
    "                            case \"d\":\n",
    "                                #digit\n",
    "                                pw += random.choice(digits)\n",
    "                            case \"x\":\n",
    "                                #random any character\n",
    "                                pw += random.choice(anychar)\n",
    "\n",
    "                case \"w\" | \"n\" | \"v\" | \"j\" | \"b\" | \"c\":\n",
    "                    #words\n",
    "                    word_type = \"n\"\n",
    "                    word_case = \"t\"\n",
    "                    word_length = \"0\"\n",
    "                    if (len(part) == 1):\n",
    "                        # letter only\n",
    "                        word_length = 5\n",
    "                        word_case = \"t\"\n",
    "                        \n",
    "                    elif part[1].isdigit() and part[0] != \"c\":\n",
    "                        # if no word-case indicated\n",
    "                        this_num = part[1:]\n",
    "                        if int(this_num) > 20:\n",
    "                            # limit to 20-char words\n",
    "                            this_num = \"20\"\n",
    "                        word_length = int(part_num(this_num))\n",
    "                        word_case = \"t\"\n",
    "                        \n",
    "                    elif part[0] == \"c\":\n",
    "                        # custom lists; ex. c1, c1u\n",
    "                        word_length = 0 # word_length is not used for custom lists\n",
    "                        word_case = part[-1] if part[-1].isdigit() == False else  \"t\" #c3u\n",
    "                        word_type = part[1:-1] if part[-1].isdigit() == False else part[1:-1] #c3u\n",
    "                    else:\n",
    "                        # limit to 20-char words\n",
    "                        this_num = \"20\" if part[2:] and int(part[2:]) > 20 else part[2:]\n",
    "                        word_length = int(part_num(this_num))\n",
    "                        word_case = part[1]\n",
    "                                        \n",
    "                    word_type = word_type if part[0] == \"c\" else part[0]\n",
    "                    \n",
    "                    this_word = getWord(word_type, word_length) if part[0] != \"0\" else spell_number(word_length)\n",
    "                        \n",
    "                    pw += change_word_case(this_word, word_case)    \n",
    "\n",
    "    return(pw)\n",
    "\n",
    "# print(pwgen(\"%jt4%\\ %nt0%\\: (%cu1%\\)%d3%\\-%d4\"))\n",
    "print(pwgen(\"%c3l\"))"
   ]
  },
  {
   "cell_type": "code",
   "execution_count": 105,
   "id": "29785889",
   "metadata": {
    "scrolled": false
   },
   "outputs": [
    {
     "name": "stdout",
     "output_type": "stream",
     "text": [
      "izx\n",
      "Birk Comp: (ZERO)193-0511\n"
     ]
    }
   ],
   "source": [
    "print(pwgen(\"%a3u\"))\n",
    "print(pwgen(\"%jt4%\\ %nt0%\\: (%0u0%\\)%d3%\\-%d4\"))"
   ]
  },
  {
   "cell_type": "markdown",
   "id": "0b4ab60e",
   "metadata": {},
   "source": [
    "## USAGE\n",
    "pwgen(format-string-segments)\n",
    "- Format string is made up of multiple segment representing parts of the desigred password\n",
    "- `%` starts each segment\n",
    "- Words (nouns, verbs, adjectives, adverbs)\n",
    "    - Case can be designated; default is Title-case, if not given\n",
    "    - Word length can be specified; default is 5, if not given\n",
    "- Characters (letters, digits, symbols)\n",
    "    - Number of characters can be designated; default is 1, if not given\n",
    "- Literal\n",
    "    - Can be any character or string\n",
    "\n",
    "---\n",
    "|char|type|example|description|\n",
    "|:---:|:------------:|:-----:|:---------------------------|\n",
    "|a|lower-alpha|%a5|5 random lower-alpha characters|\n",
    "|A|upper-alpha|%A5|5 random upper-alpha characters|\n",
    "|m|mixed-case|%M3|3 random mixed-case characters|\n",
    "|d|digits|%d14|14 random digits|\n",
    "|s|symbol|%s|5 (default) symbol (aka special character)|\n",
    "| \\\\ |literal char/string|%\\hello!|produces hello!|\n",
    "|0 (zero)|spelled number (1-2 digits)|0l33, 00, 0|thirty-three (lower case), zero, (random)\n",
    "|x|any characters|%x14|14 random characters of any type|\n",
    "|wl|word (lower-case)|%wl3|3-letter word with all lower-case letters|\n",
    "|wu|word (upper-case)|%wu5|5-letter word with all upper-case letters|\n",
    "|wt|word (title-case)|%wt0|5-letter word with first letter capitalized|\n",
    "|nl, nu, nt|noun (upper-, lower-, title-case)|||\n",
    "|vl, vu, vt|verb (upper-, lower-, title-case)|||\n",
    "|jl, ju, jt|adjective (upper-, lower-, title-case)|||\n",
    "|bl, bu, bt|adverb (upper-, lower-, title-case)|||\n",
    "|cl1, cu1, ct1|custom 1: random color|%cl1|purple (lower-case)|\n",
    "|cl2, cu2, ct2|custom 2: random month word|#cu2|MARCH (upper-case)|\n",
    "|cl3, cu3, ct3|custom 3: random day word|%ct3|Wednesday (title-case)|\n",
    "\n",
    "---\n",
    "__Usage example__\n",
    "> `%\\wt3.%jl4%nt0%s%d3\"`\n",
    "\n",
    "|Segment|Descripton|\n",
    "|---|---|\n",
    "|%\\wt3.|literal string 'wt3.'|\n",
    "|%jl4|adjective, lower-case, 4-letters long|\n",
    "|%nt0|noun, title-case, random length|\n",
    "|%s|random symbol, 1 character(default)|\n",
    "|%d3|drandom digits, 3 digits long|\n",
    "\n",
    "__Example of results__\n",
    "1. > `wt3.russStonks(856`\n",
    "2. > `wt3.bentCue~570`\n",
    "3. > `wt3.pertStubbed*699`\n",
    "4. > `wt3.airyWaftures!570`\n",
    "5. > `wt3.inbyPraxis~675`\n",
    "\n",
    "\n",
    "---\n",
    "Test your passwords at http://www.passwordmeter.com/"
   ]
  },
  {
   "cell_type": "code",
   "execution_count": 99,
   "id": "9e7743d0",
   "metadata": {},
   "outputs": [
    {
     "name": "stdout",
     "output_type": "stream",
     "text": [
      "3020\n"
     ]
    }
   ],
   "source": [
    "print(''.join(filter(str.isdigit, 'aas30dsa20')))"
   ]
  }
 ],
 "metadata": {
  "kernelspec": {
   "display_name": "Python 3 (ipykernel)",
   "language": "python",
   "name": "python3"
  },
  "language_info": {
   "codemirror_mode": {
    "name": "ipython",
    "version": 3
   },
   "file_extension": ".py",
   "mimetype": "text/x-python",
   "name": "python",
   "nbconvert_exporter": "python",
   "pygments_lexer": "ipython3",
   "version": "3.11.2"
  }
 },
 "nbformat": 4,
 "nbformat_minor": 5
}
